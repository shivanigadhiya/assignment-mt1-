{
 "cells": [
  {
   "cell_type": "markdown",
   "id": "098ecda3-5ae6-4fc5-8ea6-fa743c79b57a",
   "metadata": {},
   "source": [
    "Q1.What is multithreading in python? Why is it used? Name the module used to handle threads in python"
   ]
  },
  {
   "cell_type": "markdown",
   "id": "983d4b4d-acf1-4f86-b8da-45464e5b97d8",
   "metadata": {},
   "source": [
    "Multithreading is a stringing procedure in Python programming to run various strings simultaneously by quickly exchanging between strings with a central processor help."
   ]
  },
  {
   "cell_type": "markdown",
   "id": "3fe761b0-47be-4978-8fcb-6bf6a70c2516",
   "metadata": {},
   "source": [
    "The threading module is a high-level implementation of multithreading used to deploy an application in Python."
   ]
  },
  {
   "cell_type": "markdown",
   "id": "2a339be0-9710-48d6-86b1-8630b1ea1c10",
   "metadata": {},
   "source": [
    "To use multithreading, we need to import the threading module in Python Program."
   ]
  },
  {
   "cell_type": "markdown",
   "id": "05c3a283-9efa-44fd-acbf-85a169f01399",
   "metadata": {},
   "source": [
    "Q2. Why threading module used? rite the use of the following functions\n",
    " activeCount\n",
    " currentThread\n",
    " enumerate"
   ]
  },
  {
   "cell_type": "markdown",
   "id": "b5ce6764-8c27-40e7-91ac-8847ac812b0b",
   "metadata": {},
   "source": [
    "To implement a new thread using the threading module."
   ]
  },
  {
   "cell_type": "markdown",
   "id": "c4bdc098-19b7-4a34-be5a-e8718449a60b",
   "metadata": {},
   "source": [
    "threading.activeCount() − Returns the number of thread objects that are active"
   ]
  },
  {
   "cell_type": "markdown",
   "id": "d26227ab-8c95-423b-801e-e15277f3a325",
   "metadata": {},
   "source": [
    "threading.currentThread() − Returns the number of thread objects in the caller's thread control."
   ]
  },
  {
   "cell_type": "markdown",
   "id": "44ede0db-fd81-4cb3-829d-5784c1876d23",
   "metadata": {},
   "source": [
    "threading.enumerate() − Returns a list of all thread objects that are currently active."
   ]
  },
  {
   "cell_type": "markdown",
   "id": "919e9336-43c1-4581-9ec6-b248b37d86c5",
   "metadata": {},
   "source": [
    "Q.3 Explain the following function:\n",
    "1.run()\n",
    "2.start()\n",
    "3.join()\n",
    "4.isAlive"
   ]
  },
  {
   "cell_type": "markdown",
   "id": "599bc1cf-1bc4-4043-9581-18266c6c1f7f",
   "metadata": {},
   "source": [
    "run()  − The run() method is the entry point for a thread."
   ]
  },
  {
   "cell_type": "markdown",
   "id": "a835eb47-7be7-41bc-9d1b-ff0d3d047e89",
   "metadata": {},
   "source": [
    "start()  − The start() method starts a thread by calling the run method."
   ]
  },
  {
   "cell_type": "markdown",
   "id": "ca23bac2-b8cc-4d67-aa07-b46ac5a308bd",
   "metadata": {},
   "source": [
    "join()  − The join() waits for threads to terminate."
   ]
  },
  {
   "cell_type": "markdown",
   "id": "bf93d73d-8228-45e3-8f32-cf33c497fcc3",
   "metadata": {},
   "source": [
    "isAlive()  − The isAlive() method checks whether a thread is still executing."
   ]
  },
  {
   "cell_type": "markdown",
   "id": "1d8a93c5-73cf-49ec-b3d8-2886de5ba92e",
   "metadata": {},
   "source": [
    "Q4. Write a python program to create two threads. Thread one must print the list of squares and thread\n",
    "two must print the list of cubes"
   ]
  },
  {
   "cell_type": "code",
   "execution_count": 1,
   "id": "eb0c0668-e8ef-4a04-82fe-6c03f01e5b31",
   "metadata": {},
   "outputs": [
    {
     "name": "stdout",
     "output_type": "stream",
     "text": [
      "List of Squares: [1, 4, 9, 16, 25, 36, 49, 64, 81, 100]\n",
      "List of Cubes: [1, 8, 27, 64, 125, 216, 343, 512, 729, 1000]\n",
      "Done!\n"
     ]
    }
   ],
   "source": [
    "import threading\n",
    "\n",
    "# Function to print the list of squares\n",
    "def print_squares():\n",
    "    squares = [num ** 2 for num in range(1, 11)]\n",
    "    print(\"List of Squares:\", squares)\n",
    "\n",
    "# Function to print the list of cubes\n",
    "def print_cubes():\n",
    "    cubes = [num ** 3 for num in range(1, 11)]\n",
    "    print(\"List of Cubes:\", cubes)\n",
    "\n",
    "# Creating the threads\n",
    "thread1 = threading.Thread(target=print_squares)\n",
    "thread2 = threading.Thread(target=print_cubes)\n",
    "\n",
    "# Starting the threads\n",
    "thread1.start()\n",
    "thread2.start()\n",
    "\n",
    "# Waiting for threads to complete their execution\n",
    "thread1.join()\n",
    "thread2.join()\n",
    "\n",
    "print(\"Done!\")\n"
   ]
  },
  {
   "cell_type": "markdown",
   "id": "24187ece-8d29-4eca-ba25-a80bbed0351d",
   "metadata": {},
   "source": [
    "Q5. State advantages and disadvantages of multithreading"
   ]
  },
  {
   "cell_type": "markdown",
   "id": "bf4d5a75-16aa-4ce7-aa84-a826e98facaa",
   "metadata": {},
   "source": [
    "Advantages of Multithreading:\n",
    "\n",
    "Increased Responsiveness: Multithreading allows a program to be more responsive to user interactions. By executing multiple threads concurrently, time-consuming tasks can be performed in the background while the main thread remains responsive to user input.\n",
    "\n",
    "Improved Performance: Multithreading can improve the performance of certain types of applications, particularly those that involve tasks that can be executed in parallel. By utilizing multiple threads, it is possible to distribute the workload across multiple CPU cores, leading to faster execution."
   ]
  },
  {
   "cell_type": "markdown",
   "id": "5ff65128-357d-4c94-bfac-e08f4b606032",
   "metadata": {},
   "source": [
    "Disadvantages of Multithreading:\n",
    "\n",
    "Complexity: Multithreaded programming can introduce additional complexity and make the code harder to reason about. Synchronization issues, such as race conditions and deadlocks, can occur when multiple threads access shared resources concurrently. These issues can be difficult to debug and fix.\n",
    "\n",
    "Increased Resource Consumption: Each thread requires system resources, such as memory, CPU time, and kernel data structures. Creating and managing multiple threads can increase the overall resource consumption of an application. If not properly managed, excessive threading can lead to resource contention and decreased performance."
   ]
  },
  {
   "cell_type": "markdown",
   "id": "1e1785b6-7237-4fe3-8a3d-054a27123540",
   "metadata": {},
   "source": [
    "Q6. Explain deadlocks and race conditions."
   ]
  },
  {
   "cell_type": "markdown",
   "id": "ddc5ce70-b83f-4086-ba9a-d121386b49e7",
   "metadata": {},
   "source": [
    "A race condition occurs when two threads use the same variable at a given time. Deadlock exists when two threads seek one lock simultaneously."
   ]
  },
  {
   "cell_type": "code",
   "execution_count": null,
   "id": "afb9568f-e455-4d9c-b00f-11442032d206",
   "metadata": {},
   "outputs": [],
   "source": []
  }
 ],
 "metadata": {
  "kernelspec": {
   "display_name": "Python 3 (ipykernel)",
   "language": "python",
   "name": "python3"
  },
  "language_info": {
   "codemirror_mode": {
    "name": "ipython",
    "version": 3
   },
   "file_extension": ".py",
   "mimetype": "text/x-python",
   "name": "python",
   "nbconvert_exporter": "python",
   "pygments_lexer": "ipython3",
   "version": "3.10.8"
  }
 },
 "nbformat": 4,
 "nbformat_minor": 5
}
